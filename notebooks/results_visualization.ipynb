{
 "cells": [
  {
   "cell_type": "code",
   "execution_count": null,
   "metadata": {},
   "outputs": [],
   "source": [
    "results_path = \"/home/dit905/bmi707/bmi707_alzheimers_mri_prediction/results/training_run_2023-04-28T18:27:54.847066\"\n",
    "\n",
    "import json\n",
    "with open()"
   ]
  }
 ],
 "metadata": {
  "language_info": {
   "name": "python"
  },
  "orig_nbformat": 4
 },
 "nbformat": 4,
 "nbformat_minor": 2
}
