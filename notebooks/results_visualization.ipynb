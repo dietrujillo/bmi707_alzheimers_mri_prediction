{
 "cells": [
  {
   "cell_type": "code",
   "execution_count": null,
   "metadata": {},
   "outputs": [],
   "source": [
    "### !!! update with relevant data/paths\n",
    "\n",
    "results_path = \"/home/dit905/bmi707/bmi707_alzheimers_mri_prediction/results/training_run_2023-04-28T18:27:54.847066\"\n",
    "predict_df = #...."
   ]
  },
  {
   "cell_type": "code",
   "execution_count": null,
   "metadata": {},
   "outputs": [],
   "source": [
    "import json\n",
    "import pandas as pd\n",
    "import numpy as np\n",
    "import matplotlib.pyplot as plt"
   ]
  },
  {
   "cell_type": "code",
   "execution_count": null,
   "metadata": {},
   "outputs": [],
   "source": [
    "### !!! update with relevant data/paths\n",
    "\n",
    "#data from Diego to create visualizations - these are the same just different types/formats...\n",
    "with open('history.json') as json_file:\n",
    "    results = json.load(json_file)\n",
    "json_file.close()  \n",
    "\n",
    "#metrics_df = pd.read_csv('log.csv')\n",
    "true_df = pd.read_csv('metadata.csv')"
   ]
  },
  {
   "cell_type": "code",
   "execution_count": null,
   "metadata": {},
   "outputs": [],
   "source": [
    "from sklearn.metrics import confusion_matrix\n",
    "\n",
    "pred_df = pd.merge(true_df, predict_df, how='inner', on='name')\n",
    "true = pred_df['label']\n",
    "pred = pred_df['prediction']\n",
    "cf_mat = confusion_matrix(true, pred)"
   ]
  },
  {
   "cell_type": "code",
   "execution_count": null,
   "metadata": {},
   "outputs": [],
   "source": [
    "#heatmap code modified from: https://medium.com/@dtuk81/confusion-matrix-visualization-fc31e3f30fea\n",
    "import seaborn as sns\n",
    "\n",
    "counts = ['{0:0.0f}'.format(value) for value in cf_mat.flatten()]\n",
    "percentages = ['({0:.2%})'.format(value) for value in cf_mat.flatten()/np.sum(cf_mat)]\n",
    "labels = [f'{v1}\\n{v2}' for v1, v2 in\n",
    "          zip(counts, percentages)]\n",
    "labels = np.asarray(labels).reshape(4,4)\n",
    "\n",
    "tick_labels = [\"Non \\n Demented\", \"Very Mild \\n Demented\", \"Mild \\n Demented\", \"Moderate \\n Demented\"]\n",
    "\n",
    "sns.heatmap(cf_mat, annot=labels, fmt='', cmap='Blues', xticklabels=tick_labels, yticklabels=tick_labels, cbar=False)\n",
    "plt.xticks(rotation = 0)\n",
    "plt.yticks(rotation = 0)\n",
    "plt.title('Confusion Matrix Heatmap', fontsize=16)\n",
    "plt.xlabel('Predicted Label', fontsize=12, labelpad=10)\n",
    "plt.ylabel('True Label', fontsize=12, labelpad=5)\n",
    "plt.show()"
   ]
  },
  {
   "cell_type": "code",
   "execution_count": null,
   "metadata": {},
   "outputs": [],
   "source": [
    "epoch = np.arange(len(results['loss']))\n",
    "\n",
    "sns.set_style(\"darkgrid\")\n",
    "fig, axes = plt.subplots(nrows=1, ncols=2, figsize=(14, 5))\n",
    "\n",
    "#can change data and label as needed\n",
    "sns.lineplot(data=results, x=epoch, y='accuracy', label='model_name1', ax=axes[0])\n",
    "sns.lineplot(data=results, x=epoch, y='accuracy', label='model_name2', ax=axes[0])\n",
    "axes[0].set_xlabel('Epoch')\n",
    "axes[0].set_ylabel('Training Accuracy')\n",
    "axes[0].set_title('Training')\n",
    "axes[0].legend(loc='lower right')\n",
    "\n",
    "sns.lineplot(data=results, x=epoch, y='val_accuracy', label='model_name1', ax=axes[1])\n",
    "sns.lineplot(data=results, x=epoch, y='val_accuracy', label='model_name2', ax=axes[1])\n",
    "axes[1].set_xlabel('Epoch')\n",
    "axes[1].set_ylabel('Validation Accuracy')\n",
    "axes[1].set_title('Validation')\n",
    "axes[1].legend(loc='lower right')\n",
    "\n",
    "fig.suptitle('Accuracy v Epochs', fontsize=16)\n",
    "plt.show()"
   ]
  },
  {
   "cell_type": "code",
   "execution_count": null,
   "metadata": {},
   "outputs": [],
   "source": [
    "sns.set_style(\"darkgrid\")\n",
    "fig, axes = plt.subplots(nrows=1, ncols=2, figsize=(14, 5))\n",
    "\n",
    "#can change data and label as needed\n",
    "sns.lineplot(data=results, x=epoch, y='loss', label='model_name1', ax=axes[0])\n",
    "sns.lineplot(data=results, x=epoch, y='loss', label='model_name2', ax=axes[0])\n",
    "axes[0].set_xlabel('Epoch')\n",
    "axes[0].set_ylabel('Training Loss')\n",
    "axes[0].set_title('Training')\n",
    "axes[0].legend(loc='upper right')\n",
    "\n",
    "sns.lineplot(data=results, x=epoch, y='val_loss', label='model_name1', ax=axes[1])\n",
    "sns.lineplot(data=results, x=epoch, y='val_loss', label='model_name2', ax=axes[1])\n",
    "axes[1].set_xlabel('Epoch')\n",
    "axes[1].set_ylabel('Validation Loss')\n",
    "axes[1].set_title('Validation')\n",
    "axes[1].legend(loc='upper right')\n",
    "\n",
    "fig.suptitle('Loss v Epochs', fontsize=16)\n",
    "plt.show()"
   ]
  }
 ],
 "metadata": {
  "kernelspec": {
   "display_name": "Python 3",
   "language": "python",
   "name": "python3"
  },
  "language_info": {
   "name": "python",
   "version": "3.9.4"
  },
  "orig_nbformat": 4,
  "vscode": {
   "interpreter": {
    "hash": "f22a20af907fde35ff19e1e892fdb271353fb19b11c7ebd774491472e685293c"
   }
  }
 },
 "nbformat": 4,
 "nbformat_minor": 2
}
